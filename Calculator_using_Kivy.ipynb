{
  "nbformat": 4,
  "nbformat_minor": 0,
  "metadata": {
    "colab": {
      "name": "Calculator-using-Kivy.ipynb",
      "provenance": [],
      "authorship_tag": "ABX9TyOrAvIjZuK7FF7DhcdTH2IU",
      "include_colab_link": true
    },
    "kernelspec": {
      "name": "python3",
      "display_name": "Python 3"
    },
    "language_info": {
      "name": "python"
    }
  },
  "cells": [
    {
      "cell_type": "markdown",
      "metadata": {
        "id": "view-in-github",
        "colab_type": "text"
      },
      "source": [
        "<a href=\"https://colab.research.google.com/github/Shambhavi-Gupta/Calculator-using-Kivy/blob/main/Calculator_using_Kivy.ipynb\" target=\"_parent\"><img src=\"https://colab.research.google.com/assets/colab-badge.svg\" alt=\"Open In Colab\"/></a>"
      ]
    },
    {
      "cell_type": "code",
      "metadata": {
        "id": "CSKNQiG2AQFT"
      },
      "source": [
        "rom kivy.app import App\n",
        "from kivy.uix.button import Button\n",
        "from kivy.uix.boxlayout import BoxLayout\n",
        "from kivy.uix.gridlayout import GridLayout\n",
        "from kivy.uix.label import Label\n",
        "\n",
        "class Calculator(App):\n",
        "\tdef build(self):\n",
        "\t\troot_widget = BoxLayout(orientation=\"vertical\")\n",
        "\t\toutput_label = Label(size_hint_y=0.75, font_size=50)\n",
        "\t\tbutton_symbols = ('1', '2', '3', '+',\n",
        "\t\t\t              '4', '5', '6', '-',\n",
        "\t\t\t              '7', '8', '9', '.',\n",
        "\t\t\t              '0', '*', '/', '=')\n",
        "\t\tbutton_grid = GridLayout(cols=4, size_hint_y=2)\n",
        "\t\tfor symbol in button_symbols:\n",
        "\t\t\tbutton_grid.add_widget(Button(text=symbol))\n",
        "\n",
        "\t\tclear_button = Button(text=\"CLEAR\", size_hint_y=None, height=100)\n",
        "\t\tdef print_button_text(instance):\n",
        "\t\t\toutput_label.text += instance.text\n",
        "\t\tfor button in button_grid.children[1:]:\n",
        "\t\t\tbutton.bind(on_press=print_button_text)\n",
        "\n",
        "\t\tdef resize_label_text(label, new_height):\n",
        "\t\t\tlabel.fontsize = 0.5*label.height\n",
        "\t\toutput_label.bind(height=resize_label_text)\n",
        "\n",
        "\t\tdef evaluate_result(instance):\n",
        "\t\t\ttry:\n",
        "\t\t\t\toutput_label.text = str(eval(output_label.text))\n",
        "\t\t\texcept SyntaxError:\n",
        "\t\t\t\toutput_label.text = \"Python Syntax Error!\"\n",
        "\t\tbutton_grid.children[0].bind(on_press=evaluate_result)\n",
        "\n",
        "\t\tdef clear_label(instance):\n",
        "\t\t\toutput_label.text= \" \"\n",
        "\t\tclear_button.bind(on_press=clear_label)\n",
        "\n",
        "\t\troot_widget.add_widget(output_label)\n",
        "\t\troot_widget.add_widget(button_grid)\n",
        "\t\troot_widget.add_widget(clear_button)\n",
        "\t\treturn root_widget\n",
        "\n",
        "Calculator().run()"
      ],
      "execution_count": null,
      "outputs": []
    }
  ]
}